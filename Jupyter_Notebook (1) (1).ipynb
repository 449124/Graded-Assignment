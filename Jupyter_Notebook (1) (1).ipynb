{
 "cells": [
  {
   "cell_type": "markdown",
   "metadata": {},
   "source": [
    "<center>\n",
    "    <img src=\"https://cf-courses-data.s3.us.cloud-object-storage.appdomain.cloud/IBMDeveloperSkillsNetwork-DS0105EN-SkillsNetwork/labs/Module2/images/SN_web_lightmode.png\" width=\"300\" alt=\"cognitiveclass.ai logo\"  />\n",
    "</center>\n"
   ]
  },
  {
   "cell_type": "markdown",
   "metadata": {},
   "source": [
    "#### Add your code below following the instructions given in the course\n"
   ]
  },
  {
   "cell_type": "markdown",
   "metadata": {},
   "source": [
    "<h1>My Jupyter Notebook on IBM Watson Studio</h1>"
   ]
  },
  {
   "cell_type": "markdown",
   "metadata": {},
   "source": [
    "<strong>Oscar</strong> <br>\n",
    "<header>Data Scientist</header>"
   ]
  },
  {
   "cell_type": "markdown",
   "metadata": {},
   "source": [
    "<em>I'm interested in Data Science so I could help business and institutions make data drive decisions. This could be in predicting sales in the next 5 years or help health care institutions solve problems associated with diseases</em>"
   ]
  },
  {
   "cell_type": "markdown",
   "metadata": {},
   "source": [
    "<h3>The code below takes the variable x and is assigned the addition operator</h3>"
   ]
  },
  {
   "cell_type": "code",
   "execution_count": 2,
   "metadata": {},
   "outputs": [
    {
     "data": {
      "text/plain": [
       "2"
      ]
     },
     "execution_count": 2,
     "metadata": {},
     "output_type": "execute_result"
    }
   ],
   "source": [
    "x = 1 + 1\n",
    "x"
   ]
  },
  {
   "cell_type": "markdown",
   "metadata": {},
   "source": [
    "Operations that can be done in markdown includes:-\n",
    "<br>\n",
    "<ul>\n",
    "    <li>Addition</li>\n",
    "    <li>Subtraction</li>\n",
    "    <li>Division</li>\n",
    "    <li>Multiplication</li>\n",
    "</ul>\n",
    "Basic Rules to Apply doing data analysis\n",
    "<ol>\n",
    "    <li>Keep clean documentation for others when collaborating</li>\n",
    "    <li>Blocks of code should be indented for easily readability</li>\n",
    "    <li>Remember to keep the version history of the changes you make</li>\n",
    "</ol>\n",
    "Click <a href=\"https://www.ibm.com/us-en/\">here</a> to be redirected to be the IBM Website \n",
    "<br>\n",
    "<s><strong>This was wrong</</s>"
   ]
  },
  {
   "cell_type": "code",
   "execution_count": null,
   "metadata": {},
   "outputs": [],
   "source": []
  }
 ],
 "metadata": {
  "kernelspec": {
   "display_name": "Python",
   "language": "python",
   "name": "conda-env-python-py"
  },
  "language_info": {
   "codemirror_mode": {
    "name": "ipython",
    "version": 3
   },
   "file_extension": ".py",
   "mimetype": "text/x-python",
   "name": "python",
   "nbconvert_exporter": "python",
   "pygments_lexer": "ipython3",
   "version": "3.7.12"
  }
 },
 "nbformat": 4,
 "nbformat_minor": 4
}
